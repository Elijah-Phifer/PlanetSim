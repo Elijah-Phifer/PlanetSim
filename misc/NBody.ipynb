{
 "cells": [
  {
   "cell_type": "code",
   "execution_count": 1,
   "metadata": {},
   "outputs": [
    {
     "ename": "ArgumentError",
     "evalue": "ArgumentError: Package Plots not found in current path.\n- Run `import Pkg; Pkg.add(\"Plots\")` to install the Plots package.",
     "output_type": "error",
     "traceback": [
      "ArgumentError: Package Plots not found in current path.\n",
      "- Run `import Pkg; Pkg.add(\"Plots\")` to install the Plots package.\n",
      "\n",
      "Stacktrace:\n",
      "  [1] macro expansion\n",
      "    @ ./loading.jl:2223 [inlined]\n",
      "  [2] macro expansion\n",
      "    @ ./lock.jl:273 [inlined]\n",
      "  [3] __require(into::Module, mod::Symbol)\n",
      "    @ Base ./loading.jl:2198\n",
      "  [4] #invoke_in_world#3\n",
      "    @ ./essentials.jl:1089 [inlined]\n",
      "  [5] invoke_in_world\n",
      "    @ ./essentials.jl:1086 [inlined]\n",
      "  [6] require(into::Module, mod::Symbol)\n",
      "    @ Base ./loading.jl:2191\n",
      "  [7] eval\n",
      "    @ ./boot.jl:430 [inlined]\n",
      "  [8] include_string(mapexpr::typeof(REPL.softscope), mod::Module, code::String, filename::String)\n",
      "    @ Base ./loading.jl:2643\n",
      "  [9] #invokelatest#2\n",
      "    @ ./essentials.jl:1055 [inlined]\n",
      " [10] invokelatest\n",
      "    @ ./essentials.jl:1052 [inlined]\n",
      " [11] (::VSCodeServer.var\"#217#218\"{VSCodeServer.NotebookRunCellArguments, String})()\n",
      "    @ VSCodeServer ~/.vscode/extensions/julialang.language-julia-1.124.2/scripts/packages/VSCodeServer/src/serve_notebook.jl:24\n",
      " [12] withpath(f::VSCodeServer.var\"#217#218\"{VSCodeServer.NotebookRunCellArguments, String}, path::String)\n",
      "    @ VSCodeServer ~/.vscode/extensions/julialang.language-julia-1.124.2/scripts/packages/VSCodeServer/src/repl.jl:276\n",
      " [13] notebook_runcell_request(conn::VSCodeServer.JSONRPC.JSONRPCEndpoint{Base.PipeEndpoint, Base.PipeEndpoint}, params::VSCodeServer.NotebookRunCellArguments)\n",
      "    @ VSCodeServer ~/.vscode/extensions/julialang.language-julia-1.124.2/scripts/packages/VSCodeServer/src/serve_notebook.jl:13\n",
      " [14] dispatch_msg(x::VSCodeServer.JSONRPC.JSONRPCEndpoint{Base.PipeEndpoint, Base.PipeEndpoint}, dispatcher::VSCodeServer.JSONRPC.MsgDispatcher, msg::Dict{String, Any})\n",
      "    @ VSCodeServer.JSONRPC ~/.vscode/extensions/julialang.language-julia-1.124.2/scripts/packages/JSONRPC/src/typed.jl:67\n",
      " [15] serve_notebook(pipename::String, debugger_pipename::String, outputchannel_logger::Base.CoreLogging.SimpleLogger; error_handler::var\"#5#10\"{String})\n",
      "    @ VSCodeServer ~/.vscode/extensions/julialang.language-julia-1.124.2/scripts/packages/VSCodeServer/src/serve_notebook.jl:147\n",
      " [16] top-level scope\n",
      "    @ ~/.vscode/extensions/julialang.language-julia-1.124.2/scripts/notebook/notebook.jl:35"
     ]
    }
   ],
   "source": [
    "using Plots, OrdinaryDiffEq, ModelingToolkit\n",
    "gr()"
   ]
  },
  {
   "cell_type": "code",
   "execution_count": 1,
   "metadata": {},
   "outputs": [],
   "source": [
    "struct Body\n",
    "    name::String\n",
    "    mass::Float64\n",
    "    position::Vector{Float64}\n",
    "    velocity::Vector{Float64}\n",
    "end"
   ]
  },
  {
   "cell_type": "code",
   "execution_count": 4,
   "metadata": {},
   "outputs": [
    {
     "data": {
      "text/plain": [
       "(0.0, 4.0e8)"
      ]
     },
     "metadata": {},
     "output_type": "display_data"
    }
   ],
   "source": [
    "\n",
    "\n",
    "G = 2.95912208286e-4\n",
    "\n",
    "planet = Body[]\n",
    "\n",
    "M = []\n",
    "\n",
    "\n",
    "t_span = (0.0, 400_000_000.0)"
   ]
  },
  {
   "cell_type": "code",
   "execution_count": 5,
   "metadata": {},
   "outputs": [
    {
     "data": {
      "text/plain": [
       "addBody! (generic function with 1 method)"
      ]
     },
     "metadata": {},
     "output_type": "display_data"
    }
   ],
   "source": [
    "function createBody(name::String, mass::Float64, init_x::Float64, init_y::Float64, init_z::Float64)::Body\n",
    "    return Body(name, mass, init_x, init_y, init_z)\n",
    "end\n",
    "\n",
    "\n",
    "# Define a function that appends a Body struct to an array\n",
    "function addBody!(new_body::Body)\n",
    "    push!(planet, new_body)  # push! modifies the array in place\n",
    "end\n",
    "\n",
    "# Example usage:\n",
    "# Create an empty array of Body structs\n",
    "\n",
    "\n",
    "# Create a new Body object\n",
    "#earth = Body(\"Earth\", 5.972e24, 0.0, 0.0, 0.0)\n",
    "\n",
    "# Append the new body to the array\n",
    "#addBody!(earth)\n",
    "\n",
    "# Verify the array contains the new body\n",
    "#println(planet)\n",
    "\n",
    "\n"
   ]
  },
  {
   "cell_type": "code",
   "execution_count": 40,
   "metadata": {},
   "outputs": [
    {
     "data": {
      "text/plain": [
       "Body[]"
      ]
     },
     "metadata": {},
     "output_type": "display_data"
    }
   ],
   "source": [
    "empty!(planet)"
   ]
  },
  {
   "cell_type": "code",
   "execution_count": 7,
   "metadata": {},
   "outputs": [],
   "source": [
    "# Data for planets, masses, positions, and velocities\n",
    "M = [\n",
    "    1.00000597682,\n",
    "    0.000954786104043,\n",
    "    0.000285583733151,\n",
    "    0.0000437273164546,\n",
    "    0.0000517759138449,\n",
    "    1 / 1.3e8\n",
    "]\n",
    "\n",
    "planets = [\"Sun\", \"Jupiter\", \"Saturn\", \"Uranus\", \"Neptune\", \"Pluto\"]\n",
    "\n",
    "pos = [\n",
    "    [0.0, -3.5023653, 9.0755314, 8.310142, 11.4707666, -15.5387357],\n",
    "    [0.0, -3.8169847, -3.0458353, -16.2901086, -25.7294829, -25.2225594],\n",
    "    [0.0, -1.5507963, -1.6483708, -7.2521278, -10.8169456, -3.1902382]\n",
    "]\n",
    "\n",
    "vel = [\n",
    "    [0.0, 0.00565429, 0.00168318, 0.00354178, 0.0028893, 0.00276725],\n",
    "    [0.0, -0.0041249, 0.00483525, 0.00137102, 0.00114527, -0.00170702],\n",
    "    [0.0, -0.00190589, 0.00192462, 0.00055029, 0.00039677, -0.00136504]\n",
    "]\n",
    "\n",
    "\n",
    "for i in 1:length(planets)\n",
    "    body = Body(planets[i], M[i], [pos[1][i], pos[2][i], pos[3][i]], [vel[1][i], vel[2][i], vel[3][i]])\n",
    "    addBody!(body)\n",
    "end"
   ]
  },
  {
   "cell_type": "code",
   "execution_count": 8,
   "metadata": {},
   "outputs": [
    {
     "name": "stdout",
     "output_type": "stream",
     "text": [
      "Name: Sun, Mass: 1.00000597682, Position: [0.0, 0.0, 0.0], Velocity: [0.0, 0.0, 0.0]\n",
      "Name: Jupiter, Mass: 0.000954786104043, Position: [-3.5023653, -3.8169847, -1.5507963], Velocity: [0.00565429, -0.0041249, -0.00190589]\n",
      "Name: Saturn, Mass: 0.000285583733151, Position: [9.0755314, -3.0458353, -1.6483708], Velocity: [0.00168318, 0.00483525, 0.00192462]\n",
      "Name: Uranus, Mass: 4.37273164546e-5, Position: [8.310142, -16.2901086, -7.2521278], Velocity: [0.00354178, 0.00137102, 0.00055029]\n",
      "Name: Neptune, Mass: 5.17759138449e-5, Position: [11.4707666, -25.7294829, -10.8169456], Velocity: [0.0028893, 0.00114527, 0.00039677]\n",
      "Name: Pluto, Mass: 7.692307692307693e-9, Position: [-15.5387357, -25.2225594, -3.1902382], Velocity: [0.00276725, -0.00170702, -0.00136504]\n"
     ]
    }
   ],
   "source": [
    "for body in planet\n",
    "    println(\"Name: $(body.name), Mass: $(body.mass), Position: $(body.position), Velocity: $(body.velocity)\")\n",
    "end"
   ]
  },
  {
   "cell_type": "code",
   "execution_count": 10,
   "metadata": {},
   "outputs": [
    {
     "name": "stdout",
     "output_type": "stream",
     "text": [
      "1.0009607629240431"
     ]
    }
   ],
   "source": [
    "print(planet[1].mass + planet[2].mass)"
   ]
  },
  {
   "cell_type": "code",
   "execution_count": 15,
   "metadata": {},
   "outputs": [
    {
     "data": {
      "text/latex": [
       "$$ \\begin{equation}\n",
       " - 0.00029591 \\left( \\frac{7.6924 \\cdot 10^{-9}}{\\sqrt{\\left(  - u\\left( t \\right)_{1,1} + u\\left( t \\right)_{1,6} \\right)^{2} + \\left(  - u\\left( t \\right)_{2,1} + u\\left( t \\right)_{2,6} \\right)^{2} + \\left(  - u\\left( t \\right)_{3,1} + u\\left( t \\right)_{3,6} \\right)^{2}}} + \\frac{2.1968 \\cdot 10^{-12}}{\\sqrt{\\left(  - u\\left( t \\right)_{1,3} + u\\left( t \\right)_{1,6} \\right)^{2} + \\left(  - u\\left( t \\right)_{2,3} + u\\left( t \\right)_{2,6} \\right)^{2} + \\left(  - u\\left( t \\right)_{3,3} + u\\left( t \\right)_{3,6} \\right)^{2}}} + \\frac{0.00028559}{\\sqrt{\\left(  - u\\left( t \\right)_{1,1} + u\\left( t \\right)_{1,3} \\right)^{2} + \\left(  - u\\left( t \\right)_{2,1} + u\\left( t \\right)_{2,3} \\right)^{2} + \\left(  - u\\left( t \\right)_{3,1} + u\\left( t \\right)_{3,3} \\right)^{2}}} + \\frac{4.3728 \\cdot 10^{-5}}{\\sqrt{\\left(  - u\\left( t \\right)_{1,1} + u\\left( t \\right)_{1,4} \\right)^{2} + \\left(  - u\\left( t \\right)_{2,1} + u\\left( t \\right)_{2,4} \\right)^{2} + \\left(  - u\\left( t \\right)_{3,1} + u\\left( t \\right)_{3,4} \\right)^{2}}} + \\frac{0.00095479}{\\sqrt{\\left(  - u\\left( t \\right)_{1,1} + u\\left( t \\right)_{1,2} \\right)^{2} + \\left(  - u\\left( t \\right)_{2,1} + u\\left( t \\right)_{2,2} \\right)^{2} + \\left(  - u\\left( t \\right)_{3,1} + u\\left( t \\right)_{3,2} \\right)^{2}}} + \\frac{1.4786 \\cdot 10^{-8}}{\\sqrt{\\left(  - u\\left( t \\right)_{1,3} + u\\left( t \\right)_{1,5} \\right)^{2} + \\left(  - u\\left( t \\right)_{2,3} + u\\left( t \\right)_{2,5} \\right)^{2} + \\left(  - u\\left( t \\right)_{3,3} + u\\left( t \\right)_{3,5} \\right)^{2}}} + \\frac{7.3445 \\cdot 10^{-12}}{\\sqrt{\\left(  - u\\left( t \\right)_{1,2} + u\\left( t \\right)_{1,6} \\right)^{2} + \\left(  - u\\left( t \\right)_{2,2} + u\\left( t \\right)_{2,6} \\right)^{2} + \\left(  - u\\left( t \\right)_{3,2} + u\\left( t \\right)_{3,6} \\right)^{2}}} + \\frac{1.2488 \\cdot 10^{-8}}{\\sqrt{\\left(  - u\\left( t \\right)_{1,3} + u\\left( t \\right)_{1,4} \\right)^{2} + \\left(  - u\\left( t \\right)_{2,3} + u\\left( t \\right)_{2,4} \\right)^{2} + \\left(  - u\\left( t \\right)_{3,3} + u\\left( t \\right)_{3,4} \\right)^{2}}} + \\frac{2.7267 \\cdot 10^{-7}}{\\sqrt{\\left(  - u\\left( t \\right)_{1,2} + u\\left( t \\right)_{1,3} \\right)^{2} + \\left(  - u\\left( t \\right)_{2,2} + u\\left( t \\right)_{2,3} \\right)^{2} + \\left(  - u\\left( t \\right)_{3,2} + u\\left( t \\right)_{3,3} \\right)^{2}}} + \\frac{5.1776 \\cdot 10^{-5}}{\\sqrt{\\left(  - u\\left( t \\right)_{1,1} + u\\left( t \\right)_{1,5} \\right)^{2} + \\left(  - u\\left( t \\right)_{2,1} + u\\left( t \\right)_{2,5} \\right)^{2} + \\left(  - u\\left( t \\right)_{3,1} + u\\left( t \\right)_{3,5} \\right)^{2}}} + \\frac{2.264 \\cdot 10^{-9}}{\\sqrt{\\left(  - u\\left( t \\right)_{1,4} + u\\left( t \\right)_{1,5} \\right)^{2} + \\left(  - u\\left( t \\right)_{2,4} + u\\left( t \\right)_{2,5} \\right)^{2} + \\left(  - u\\left( t \\right)_{3,4} + u\\left( t \\right)_{3,5} \\right)^{2}}} + \\frac{4.175 \\cdot 10^{-8}}{\\sqrt{\\left(  - u\\left( t \\right)_{1,2} + u\\left( t \\right)_{1,4} \\right)^{2} + \\left(  - u\\left( t \\right)_{2,2} + u\\left( t \\right)_{2,4} \\right)^{2} + \\left(  - u\\left( t \\right)_{3,2} + u\\left( t \\right)_{3,4} \\right)^{2}}} + \\frac{3.3636 \\cdot 10^{-13}}{\\sqrt{\\left(  - u\\left( t \\right)_{1,4} + u\\left( t \\right)_{1,6} \\right)^{2} + \\left(  - u\\left( t \\right)_{2,4} + u\\left( t \\right)_{2,6} \\right)^{2} + \\left(  - u\\left( t \\right)_{3,4} + u\\left( t \\right)_{3,6} \\right)^{2}}} + \\frac{4.9435 \\cdot 10^{-8}}{\\sqrt{\\left(  - u\\left( t \\right)_{1,2} + u\\left( t \\right)_{1,5} \\right)^{2} + \\left(  - u\\left( t \\right)_{2,2} + u\\left( t \\right)_{2,5} \\right)^{2} + \\left(  - u\\left( t \\right)_{3,2} + u\\left( t \\right)_{3,5} \\right)^{2}}} + \\frac{3.9828 \\cdot 10^{-13}}{\\sqrt{\\left(  - u\\left( t \\right)_{1,5} + u\\left( t \\right)_{1,6} \\right)^{2} + \\left(  - u\\left( t \\right)_{2,5} + u\\left( t \\right)_{2,6} \\right)^{2} + \\left(  - u\\left( t \\right)_{3,5} + u\\left( t \\right)_{3,6} \\right)^{2}}} \\right)\n",
       "\\end{equation}\n",
       " $$"
      ],
      "text/plain": [
       "-0.000295912208286(7.692353667846155e-9 / sqrt((-(u(t))[1, 1] + (u(t))[1, 6])^2 + (-(u(t))[2, 1] + (u(t))[2, 6])^2 + (-(u(t))[3, 1] + (u(t))[3, 6])^2) + 2.1967979473153846e-12 / sqrt((-(u(t))[1, 3] + (u(t))[1, 6])^2 + (-(u(t))[2, 3] + (u(t))[2, 6])^2 + (-(u(t))[3, 3] + (u(t))[3, 6])^2) + 0.00028558544003356794 / sqrt((-(u(t))[1, 1] + (u(t))[1, 3])^2 + (-(u(t))[2, 1] + (u(t))[2, 3])^2 + (-(u(t))[3, 1] + (u(t))[3, 3])^2) + 4.372757780489954e-5 / sqrt((-(u(t))[1, 1] + (u(t))[1, 4])^2 + (-(u(t))[2, 1] + (u(t))[2, 4])^2 + (-(u(t))[3, 1] + (u(t))[3, 4])^2) + 0.0009547918106276825 / sqrt((-(u(t))[1, 1] + (u(t))[1, 2])^2 + (-(u(t))[2, 1] + (u(t))[2, 2])^2 + (-(u(t))[3, 1] + (u(t))[3, 2])^2) + 1.4786358763131087e-8 / sqrt((-(u(t))[1, 3] + (u(t))[1, 5])^2 + (-(u(t))[2, 3] + (u(t))[2, 5])^2 + (-(u(t))[3, 3] + (u(t))[3, 5])^2) + 7.344508492638461e-12 / sqrt((-(u(t))[1, 2] + (u(t))[1, 6])^2 + (-(u(t))[2, 2] + (u(t))[2, 6])^2 + (-(u(t))[3, 2] + (u(t))[3, 6])^2) + 1.2487810273779817e-8 / sqrt((-(u(t))[1, 3] + (u(t))[1, 4])^2 + (-(u(t))[2, 3] + (u(t))[2, 4])^2 + (-(u(t))[3, 3] + (u(t))[3, 4])^2) + 2.7267137995329905e-7 / sqrt((-(u(t))[1, 2] + (u(t))[1, 3])^2 + (-(u(t))[2, 2] + (u(t))[2, 3])^2 + (-(u(t))[3, 2] + (u(t))[3, 3])^2) + 5.177622330021739e-5 / sqrt((-(u(t))[1, 1] + (u(t))[1, 5])^2 + (-(u(t))[2, 1] + (u(t))[2, 5])^2 + (-(u(t))[3, 1] + (u(t))[3, 5])^2) + 2.2640217694220477e-9 / sqrt((-(u(t))[1, 4] + (u(t))[1, 5])^2 + (-(u(t))[2, 4] + (u(t))[2, 5])^2 + (-(u(t))[3, 4] + (u(t))[3, 5])^2) + 4.175023411794291e-8 / sqrt((-(u(t))[1, 2] + (u(t))[1, 4])^2 + (-(u(t))[2, 2] + (u(t))[2, 4])^2 + (-(u(t))[3, 2] + (u(t))[3, 4])^2) + 3.363639727276923e-13 / sqrt((-(u(t))[1, 4] + (u(t))[1, 6])^2 + (-(u(t))[2, 4] + (u(t))[2, 6])^2 + (-(u(t))[3, 4] + (u(t))[3, 6])^2) + 4.9434923063238094e-8 / sqrt((-(u(t))[1, 2] + (u(t))[1, 5])^2 + (-(u(t))[2, 2] + (u(t))[2, 5])^2 + (-(u(t))[3, 2] + (u(t))[3, 5])^2) + 3.982762603453846e-13 / sqrt((-(u(t))[1, 5] + (u(t))[1, 6])^2 + (-(u(t))[2, 5] + (u(t))[2, 6])^2 + (-(u(t))[3, 5] + (u(t))[3, 6])^2))"
      ]
     },
     "metadata": {},
     "output_type": "display_data"
    }
   ],
   "source": [
    "const ∑ = sum\n",
    "const N = 6\n",
    "@variables t u(t)[1:3, 1:N]\n",
    "u = collect(u)\n",
    "D = Differential(t)\n",
    "potential = -G *\n",
    "            ∑(\n",
    "    i -> ∑(j -> (planet[i].mass * planet[j].mass) / √(∑(k -> (u[k, i] - u[k, j])^2, 1:3)), 1:(i - 1)),\n",
    "    2:N)\n"
   ]
  },
  {
   "cell_type": "code",
   "execution_count": null,
   "metadata": {},
   "outputs": [],
   "source": [
    "eqs = vec(@. D(D(u))) .~ .-ModelingToolkit.gradient(potential, vec(u)) ./\n",
    "                         repeat(M, inner = 3)\n",
    "@named sys = ODESystem(eqs, t)\n",
    "ss = structural_simplify(sys)\n",
    "prob = ODEProblem(ss, [vec(u .=> pos); vec(D.(u) .=> vel)], tspan)\n",
    "sol = solve(prob, Tsit5());"
   ]
  }
 ],
 "metadata": {
  "kernelspec": {
   "display_name": "Julia 1.11.1",
   "language": "julia",
   "name": "julia-1.11"
  },
  "language_info": {
   "file_extension": ".jl",
   "mimetype": "application/julia",
   "name": "julia",
   "version": "1.11.1"
  }
 },
 "nbformat": 4,
 "nbformat_minor": 2
}
